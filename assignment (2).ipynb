{
 "cells": [
  {
   "cell_type": "code",
   "execution_count": 1,
   "metadata": {},
   "outputs": [],
   "source": [
    "import os\n",
    "import pandas as pd\n",
    "import numpy as np\n",
    "from scipy import sparse\n",
    "from implicit.bpr import BayesianPersonalizedRanking"
   ]
  },
  {
   "cell_type": "markdown",
   "metadata": {},
   "source": [
    "Класс DataLoader предоставляет доступ к нужным данным"
   ]
  },
  {
   "cell_type": "code",
   "execution_count": 2,
   "metadata": {},
   "outputs": [],
   "source": [
    "class DataLoader:\n",
    "    def __init__(self, root: str) -> None:\n",
    "        self._root = root\n",
    "        \n",
    "    def load_table(self, table_name: str) -> pd.DataFrame:\n",
    "        return pd.read_csv(f\"{self._root}/{table_name}.csv\")"
   ]
  },
  {
   "cell_type": "code",
   "execution_count": 3,
   "metadata": {},
   "outputs": [
    {
     "data": {
      "text/html": [
       "<div>\n",
       "<style scoped>\n",
       "    .dataframe tbody tr th:only-of-type {\n",
       "        vertical-align: middle;\n",
       "    }\n",
       "\n",
       "    .dataframe tbody tr th {\n",
       "        vertical-align: top;\n",
       "    }\n",
       "\n",
       "    .dataframe thead th {\n",
       "        text-align: right;\n",
       "    }\n",
       "</style>\n",
       "<table border=\"1\" class=\"dataframe\">\n",
       "  <thead>\n",
       "    <tr style=\"text-align: right;\">\n",
       "      <th></th>\n",
       "      <th>customer_id</th>\n",
       "      <th>product_id</th>\n",
       "    </tr>\n",
       "  </thead>\n",
       "  <tbody>\n",
       "    <tr>\n",
       "      <th>0</th>\n",
       "      <td>1705131</td>\n",
       "      <td>120554</td>\n",
       "    </tr>\n",
       "    <tr>\n",
       "      <th>1</th>\n",
       "      <td>1624457</td>\n",
       "      <td>120555</td>\n",
       "    </tr>\n",
       "    <tr>\n",
       "      <th>2</th>\n",
       "      <td>1481210</td>\n",
       "      <td>120556</td>\n",
       "    </tr>\n",
       "    <tr>\n",
       "      <th>3</th>\n",
       "      <td>1788337</td>\n",
       "      <td>120557</td>\n",
       "    </tr>\n",
       "    <tr>\n",
       "      <th>4</th>\n",
       "      <td>443708</td>\n",
       "      <td>120558</td>\n",
       "    </tr>\n",
       "  </tbody>\n",
       "</table>\n",
       "</div>"
      ],
      "text/plain": [
       "   customer_id  product_id\n",
       "0      1705131      120554\n",
       "1      1624457      120555\n",
       "2      1481210      120556\n",
       "3      1788337      120557\n",
       "4       443708      120558"
      ]
     },
     "metadata": {},
     "output_type": "display_data"
    },
    {
     "data": {
      "text/html": [
       "<div>\n",
       "<style scoped>\n",
       "    .dataframe tbody tr th:only-of-type {\n",
       "        vertical-align: middle;\n",
       "    }\n",
       "\n",
       "    .dataframe tbody tr th {\n",
       "        vertical-align: top;\n",
       "    }\n",
       "\n",
       "    .dataframe thead th {\n",
       "        text-align: right;\n",
       "    }\n",
       "</style>\n",
       "<table border=\"1\" class=\"dataframe\">\n",
       "  <thead>\n",
       "    <tr style=\"text-align: right;\">\n",
       "      <th></th>\n",
       "      <th>customer_id</th>\n",
       "      <th>product_id</th>\n",
       "    </tr>\n",
       "  </thead>\n",
       "  <tbody>\n",
       "    <tr>\n",
       "      <th>0</th>\n",
       "      <td>1788295</td>\n",
       "      <td>120570</td>\n",
       "    </tr>\n",
       "    <tr>\n",
       "      <th>1</th>\n",
       "      <td>1567045</td>\n",
       "      <td>120578</td>\n",
       "    </tr>\n",
       "    <tr>\n",
       "      <th>2</th>\n",
       "      <td>1782630</td>\n",
       "      <td>120586</td>\n",
       "    </tr>\n",
       "    <tr>\n",
       "      <th>3</th>\n",
       "      <td>1788165</td>\n",
       "      <td>120658</td>\n",
       "    </tr>\n",
       "    <tr>\n",
       "      <th>4</th>\n",
       "      <td>1666277</td>\n",
       "      <td>120659</td>\n",
       "    </tr>\n",
       "  </tbody>\n",
       "</table>\n",
       "</div>"
      ],
      "text/plain": [
       "   customer_id  product_id\n",
       "0      1788295      120570\n",
       "1      1567045      120578\n",
       "2      1782630      120586\n",
       "3      1788165      120658\n",
       "4      1666277      120659"
      ]
     },
     "metadata": {},
     "output_type": "display_data"
    }
   ],
   "source": [
    "data_loader = DataLoader(root=\"./data\")\n",
    "\n",
    "train_purchases = data_loader.load_table(\"train\")\n",
    "test_purchases = data_loader.load_table(\"test\")\n",
    "\n",
    "display(train_purchases.head(), test_purchases.head())"
   ]
  },
  {
   "cell_type": "markdown",
   "metadata": {},
   "source": [
    "## Train\n",
    "В качестве бейзлайн модели обучим Bayesian Personalized Ranking"
   ]
  },
  {
   "cell_type": "code",
   "execution_count": 4,
   "metadata": {},
   "outputs": [],
   "source": [
    "model = BayesianPersonalizedRanking(factors=5, iterations=100)"
   ]
  },
  {
   "cell_type": "markdown",
   "metadata": {},
   "source": [
    "Преобразуем таблицу действий в разреженную матрицу *item-user* и обучим на ней модель"
   ]
  },
  {
   "cell_type": "code",
   "execution_count": 5,
   "metadata": {},
   "outputs": [
    {
     "data": {
      "application/vnd.jupyter.widget-view+json": {
       "model_id": "f8f34dbede614de0bb12b429384d6ecf",
       "version_major": 2,
       "version_minor": 0
      },
      "text/plain": [
       "HBox(children=(HTML(value=''), FloatProgress(value=0.0), HTML(value='')))"
      ]
     },
     "metadata": {},
     "output_type": "display_data"
    },
    {
     "name": "stdout",
     "output_type": "stream",
     "text": [
      "\n"
     ]
    }
   ],
   "source": [
    "train_csr = sparse.coo_matrix(\n",
    "    (\n",
    "        np.ones(train_purchases.customer_id.size, dtype=np.float32),\n",
    "        (train_purchases.product_id, train_purchases.customer_id),\n",
    "    )\n",
    ").tocsr()\n",
    "\n",
    "\n",
    "model.fit(train_csr)"
   ]
  },
  {
   "cell_type": "markdown",
   "metadata": {},
   "source": [
    "## Evaluate\n",
    "\n",
    "В качестве основной метрики будем использовать *MeanAveragePrecision@5*"
   ]
  },
  {
   "cell_type": "code",
   "execution_count": 6,
   "metadata": {},
   "outputs": [],
   "source": [
    "def apk(actual, predicted, k=10):\n",
    "    if len(predicted)>k:\n",
    "        predicted = predicted[:k]\n",
    "\n",
    "    score = 0.0\n",
    "    num_hits = 0.0\n",
    "\n",
    "    for i,p in enumerate(predicted):\n",
    "        if p in actual and p not in predicted[:i]:\n",
    "            num_hits += 1.0\n",
    "            score += num_hits / (i+1.0)\n",
    "\n",
    "    if not actual:\n",
    "        return 0.0\n",
    "\n",
    "    return score / min(len(actual), k)\n",
    "\n",
    "\n",
    "def mapk(actual, predicted, k=10):\n",
    "    return np.mean([apk(a,p,k) for a,p in zip(actual, predicted)])"
   ]
  },
  {
   "cell_type": "markdown",
   "metadata": {},
   "source": [
    "Вспомогательные функции для получения рекомендаций"
   ]
  },
  {
   "cell_type": "code",
   "execution_count": 7,
   "metadata": {},
   "outputs": [],
   "source": [
    "def recommend(model, user_ids, item_users):\n",
    "    user_items = item_users.T.tocsr()\n",
    "    recommendations = []\n",
    "    for user_id in user_ids:\n",
    "        recommendations.append(\n",
    "            [x[0] for x in model.recommend(userid=user_id, user_items=user_items, N=10)]\n",
    "        )\n",
    "    return recommendations\n",
    "\n",
    "\n",
    "def get_customer_purchases(purchases):\n",
    "    relevant = (\n",
    "        purchases.groupby(\"customer_id\")[\"product_id\"]\n",
    "        .apply(lambda s: s.values.tolist())\n",
    "        .reset_index()\n",
    "    )\n",
    "    relevant.rename(columns={\"product_id\": \"product_ids\"}, inplace=True)\n",
    "    return relevant[\"customer_id\"].tolist(), relevant[\"product_ids\"].tolist()"
   ]
  },
  {
   "cell_type": "markdown",
   "metadata": {},
   "source": [
    "Оценка модели"
   ]
  },
  {
   "cell_type": "code",
   "execution_count": 8,
   "metadata": {},
   "outputs": [
    {
     "data": {
      "text/plain": [
       "0.34945372866127583"
      ]
     },
     "execution_count": 8,
     "metadata": {},
     "output_type": "execute_result"
    }
   ],
   "source": [
    "ids, purchases = get_customer_purchases(test_purchases)\n",
    "recommendations = recommend(model, ids, train_csr)\n",
    "score = mapk(purchases, recommendations, k=5)\n",
    "score"
   ]
  },
  {
   "cell_type": "markdown",
   "metadata": {},
   "source": [
    "## Assignment\n",
    "\n",
    "Некоторые пользователи совершали покупки и на другой платформе и у нас есть история их покупок"
   ]
  },
  {
   "cell_type": "code",
   "execution_count": 9,
   "metadata": {},
   "outputs": [
    {
     "data": {
      "text/html": [
       "<div>\n",
       "<style scoped>\n",
       "    .dataframe tbody tr th:only-of-type {\n",
       "        vertical-align: middle;\n",
       "    }\n",
       "\n",
       "    .dataframe tbody tr th {\n",
       "        vertical-align: top;\n",
       "    }\n",
       "\n",
       "    .dataframe thead th {\n",
       "        text-align: right;\n",
       "    }\n",
       "</style>\n",
       "<table border=\"1\" class=\"dataframe\">\n",
       "  <thead>\n",
       "    <tr style=\"text-align: right;\">\n",
       "      <th></th>\n",
       "      <th>customer_id</th>\n",
       "      <th>product_id</th>\n",
       "    </tr>\n",
       "  </thead>\n",
       "  <tbody>\n",
       "    <tr>\n",
       "      <th>0</th>\n",
       "      <td>5496085</td>\n",
       "      <td>362171</td>\n",
       "    </tr>\n",
       "    <tr>\n",
       "      <th>1</th>\n",
       "      <td>5544270</td>\n",
       "      <td>362172</td>\n",
       "    </tr>\n",
       "    <tr>\n",
       "      <th>2</th>\n",
       "      <td>5190646</td>\n",
       "      <td>362173</td>\n",
       "    </tr>\n",
       "    <tr>\n",
       "      <th>3</th>\n",
       "      <td>1289883</td>\n",
       "      <td>362174</td>\n",
       "    </tr>\n",
       "    <tr>\n",
       "      <th>4</th>\n",
       "      <td>803540</td>\n",
       "      <td>362175</td>\n",
       "    </tr>\n",
       "  </tbody>\n",
       "</table>\n",
       "</div>"
      ],
      "text/plain": [
       "   customer_id  product_id\n",
       "0      5496085      362171\n",
       "1      5544270      362172\n",
       "2      5190646      362173\n",
       "3      1289883      362174\n",
       "4       803540      362175"
      ]
     },
     "metadata": {},
     "output_type": "display_data"
    }
   ],
   "source": [
    "external_purchases = data_loader.load_table(\"external\")\n",
    "\n",
    "display(external_purchases.head())"
   ]
  },
  {
   "cell_type": "code",
   "execution_count": 10,
   "metadata": {},
   "outputs": [
    {
     "data": {
      "text/html": [
       "<div>\n",
       "<style scoped>\n",
       "    .dataframe tbody tr th:only-of-type {\n",
       "        vertical-align: middle;\n",
       "    }\n",
       "\n",
       "    .dataframe tbody tr th {\n",
       "        vertical-align: top;\n",
       "    }\n",
       "\n",
       "    .dataframe thead th {\n",
       "        text-align: right;\n",
       "    }\n",
       "</style>\n",
       "<table border=\"1\" class=\"dataframe\">\n",
       "  <thead>\n",
       "    <tr style=\"text-align: right;\">\n",
       "      <th></th>\n",
       "      <th>customer_id</th>\n",
       "      <th>product_id</th>\n",
       "    </tr>\n",
       "  </thead>\n",
       "  <tbody>\n",
       "    <tr>\n",
       "      <th>0</th>\n",
       "      <td>5496085</td>\n",
       "      <td>362171</td>\n",
       "    </tr>\n",
       "    <tr>\n",
       "      <th>1</th>\n",
       "      <td>5544270</td>\n",
       "      <td>362172</td>\n",
       "    </tr>\n",
       "    <tr>\n",
       "      <th>2</th>\n",
       "      <td>5190646</td>\n",
       "      <td>362173</td>\n",
       "    </tr>\n",
       "    <tr>\n",
       "      <th>3</th>\n",
       "      <td>1289883</td>\n",
       "      <td>362174</td>\n",
       "    </tr>\n",
       "    <tr>\n",
       "      <th>4</th>\n",
       "      <td>803540</td>\n",
       "      <td>362175</td>\n",
       "    </tr>\n",
       "    <tr>\n",
       "      <th>...</th>\n",
       "      <td>...</td>\n",
       "      <td>...</td>\n",
       "    </tr>\n",
       "    <tr>\n",
       "      <th>1329172</th>\n",
       "      <td>5550868</td>\n",
       "      <td>447363</td>\n",
       "    </tr>\n",
       "    <tr>\n",
       "      <th>1329173</th>\n",
       "      <td>5212826</td>\n",
       "      <td>447364</td>\n",
       "    </tr>\n",
       "    <tr>\n",
       "      <th>1329174</th>\n",
       "      <td>1051589</td>\n",
       "      <td>447365</td>\n",
       "    </tr>\n",
       "    <tr>\n",
       "      <th>1329175</th>\n",
       "      <td>2106973</td>\n",
       "      <td>447366</td>\n",
       "    </tr>\n",
       "    <tr>\n",
       "      <th>1329176</th>\n",
       "      <td>4818968</td>\n",
       "      <td>447367</td>\n",
       "    </tr>\n",
       "  </tbody>\n",
       "</table>\n",
       "<p>1329177 rows × 2 columns</p>\n",
       "</div>"
      ],
      "text/plain": [
       "         customer_id  product_id\n",
       "0            5496085      362171\n",
       "1            5544270      362172\n",
       "2            5190646      362173\n",
       "3            1289883      362174\n",
       "4             803540      362175\n",
       "...              ...         ...\n",
       "1329172      5550868      447363\n",
       "1329173      5212826      447364\n",
       "1329174      1051589      447365\n",
       "1329175      2106973      447366\n",
       "1329176      4818968      447367\n",
       "\n",
       "[1329177 rows x 2 columns]"
      ]
     },
     "execution_count": 10,
     "metadata": {},
     "output_type": "execute_result"
    }
   ],
   "source": [
    "external_purchases"
   ]
  },
  {
   "cell_type": "markdown",
   "metadata": {},
   "source": [
    "Известно также, как сматчить customer_id двух платформ"
   ]
  },
  {
   "cell_type": "code",
   "execution_count": 11,
   "metadata": {},
   "outputs": [
    {
     "data": {
      "text/html": [
       "<div>\n",
       "<style scoped>\n",
       "    .dataframe tbody tr th:only-of-type {\n",
       "        vertical-align: middle;\n",
       "    }\n",
       "\n",
       "    .dataframe tbody tr th {\n",
       "        vertical-align: top;\n",
       "    }\n",
       "\n",
       "    .dataframe thead th {\n",
       "        text-align: right;\n",
       "    }\n",
       "</style>\n",
       "<table border=\"1\" class=\"dataframe\">\n",
       "  <thead>\n",
       "    <tr style=\"text-align: right;\">\n",
       "      <th></th>\n",
       "      <th>source_customer_id</th>\n",
       "      <th>external_customer_id</th>\n",
       "    </tr>\n",
       "  </thead>\n",
       "  <tbody>\n",
       "    <tr>\n",
       "      <th>0</th>\n",
       "      <td>17878</td>\n",
       "      <td>18</td>\n",
       "    </tr>\n",
       "    <tr>\n",
       "      <th>1</th>\n",
       "      <td>512572</td>\n",
       "      <td>19</td>\n",
       "    </tr>\n",
       "    <tr>\n",
       "      <th>2</th>\n",
       "      <td>141324</td>\n",
       "      <td>24</td>\n",
       "    </tr>\n",
       "    <tr>\n",
       "      <th>3</th>\n",
       "      <td>727278</td>\n",
       "      <td>26</td>\n",
       "    </tr>\n",
       "    <tr>\n",
       "      <th>4</th>\n",
       "      <td>581438</td>\n",
       "      <td>28</td>\n",
       "    </tr>\n",
       "  </tbody>\n",
       "</table>\n",
       "</div>"
      ],
      "text/plain": [
       "   source_customer_id  external_customer_id\n",
       "0               17878                    18\n",
       "1              512572                    19\n",
       "2              141324                    24\n",
       "3              727278                    26\n",
       "4              581438                    28"
      ]
     },
     "metadata": {},
     "output_type": "display_data"
    }
   ],
   "source": [
    "customer_id_mapping = data_loader.load_table(\"ids_matching\")\n",
    "display(customer_id_mapping.head())"
   ]
  },
  {
   "cell_type": "markdown",
   "metadata": {},
   "source": [
    "## Solution"
   ]
  },
  {
   "cell_type": "markdown",
   "metadata": {},
   "source": [
    " Интуитивное предположение - можно извлечь некую информацию о самих покупателях со второй платформы. Воспользовавшись этой информацией можно добавить несколько признаков в модель первой платформы.\n",
    "\n",
    "В целом, можно использовать разные подходы - посчитать матрицу \"взаимодействия\" user-user, перемножить с матрицей интеракций user-item, получим более плотную матрицу user x item,  в которой будет и коллаборативная информация и информация о кластерах (если они будут на сторонныей платформе).\n",
    "С другой стороны, доп. информацию можно сразу вбить в модель, напрямую id или векторизовать с tfidf."
   ]
  },
  {
   "cell_type": "code",
   "execution_count": 12,
   "metadata": {},
   "outputs": [],
   "source": [
    "#  Задачу для основной платформы можно решать как Item-centered, \n",
    "# то есть для каждого товара классификатор будет получать на вход вектор с признаками покупатяля,\n",
    "# а на выходе сообщать нам, готов ли покупатель купить данный товар или еще нет."
   ]
  },
  {
   "cell_type": "code",
   "execution_count": 13,
   "metadata": {},
   "outputs": [
    {
     "name": "stdout",
     "output_type": "stream",
     "text": [
      "число уникальных клиентов пл.2 = 444363\n",
      "число уникальных товаров пл.2 = 257038\n",
      "число уникальных клиентов пл.1 = 180805\n",
      "число уникальных товаров пл.1 = 104534\n"
     ]
    }
   ],
   "source": [
    "print('число уникальных клиентов пл.2 =',external_purchases['customer_id'].nunique())\n",
    "print('число уникальных товаров пл.2 =',external_purchases['product_id'].nunique())\n",
    "print('число уникальных клиентов пл.1 =',train_purchases['customer_id'].nunique())\n",
    "print('число уникальных товаров пл.1 =',train_purchases['product_id'].nunique())"
   ]
  },
  {
   "cell_type": "code",
   "execution_count": 14,
   "metadata": {},
   "outputs": [
    {
     "data": {
      "text/plain": [
       "(472794, 2)"
      ]
     },
     "execution_count": 14,
     "metadata": {},
     "output_type": "execute_result"
    }
   ],
   "source": [
    "train_purchases.shape"
   ]
  },
  {
   "cell_type": "code",
   "execution_count": 15,
   "metadata": {},
   "outputs": [
    {
     "data": {
      "text/plain": [
       "(24288, 2)"
      ]
     },
     "execution_count": 15,
     "metadata": {},
     "output_type": "execute_result"
    }
   ],
   "source": [
    "test_purchases.shape"
   ]
  },
  {
   "cell_type": "markdown",
   "metadata": {},
   "source": [
    "посмотрим на распределения"
   ]
  },
  {
   "cell_type": "code",
   "execution_count": 16,
   "metadata": {},
   "outputs": [
    {
     "data": {
      "text/plain": [
       "<AxesSubplot:>"
      ]
     },
     "execution_count": 16,
     "metadata": {},
     "output_type": "execute_result"
    },
    {
     "data": {
      "image/png": "[encoded data removed]",
      "text/plain": [
       "<Figure size 1440x720 with 1 Axes>"
      ]
     },
     "metadata": {
      "needs_background": "light"
     },
     "output_type": "display_data"
    }
   ],
   "source": [
    "external_purchases['customer_id'].value_counts().hist(bins=100,figsize=(20,10))"
   ]
  },
  {
   "cell_type": "code",
   "execution_count": 17,
   "metadata": {},
   "outputs": [
    {
     "data": {
      "text/plain": [
       "<AxesSubplot:>"
      ]
     },
     "execution_count": 17,
     "metadata": {},
     "output_type": "execute_result"
    },
    {
     "data": {
      "image/png": "[encoded data removed]",
      "text/plain": [
       "<Figure size 1440x720 with 1 Axes>"
      ]
     },
     "metadata": {
      "needs_background": "light"
     },
     "output_type": "display_data"
    }
   ],
   "source": [
    "train_purchases['customer_id'].value_counts().hist(bins=100,figsize=(20,10))"
   ]
  },
  {
   "cell_type": "markdown",
   "metadata": {},
   "source": [
    "уберем выбросы данных в виде покупателей с большим числом покупок (>20)"
   ]
  },
  {
   "cell_type": "code",
   "execution_count": 18,
   "metadata": {},
   "outputs": [],
   "source": [
    "counts = external_purchases['customer_id'].value_counts()\n",
    "ext_filtered = external_purchases[external_purchases['customer_id'].isin(counts[counts < 20].index)]"
   ]
  },
  {
   "cell_type": "code",
   "execution_count": 19,
   "metadata": {},
   "outputs": [
    {
     "name": "stdout",
     "output_type": "stream",
     "text": [
      "89870\n"
     ]
    }
   ],
   "source": [
    "print(external_purchases.shape[0]-ext_filtered.shape[0])"
   ]
  },
  {
   "cell_type": "code",
   "execution_count": 20,
   "metadata": {},
   "outputs": [
    {
     "name": "stdout",
     "output_type": "stream",
     "text": [
      "23711\n"
     ]
    }
   ],
   "source": [
    "counts = train_purchases['customer_id'].value_counts()\n",
    "train_filtered = train_purchases[train_purchases['customer_id'].isin(counts[counts < 20].index)]\n",
    "print(train_purchases.shape[0]-train_filtered.shape[0])"
   ]
  },
  {
   "cell_type": "markdown",
   "metadata": {},
   "source": [
    "Хотя это не должо сильно повлиять на резутать т.к значимых выбросов нет ."
   ]
  },
  {
   "cell_type": "code",
   "execution_count": 21,
   "metadata": {},
   "outputs": [],
   "source": [
    "import turicreate as tc\n",
    "sf = tc.SFrame(train_filtered)"
   ]
  },
  {
   "cell_type": "code",
   "execution_count": 22,
   "metadata": {},
   "outputs": [
    {
     "data": {
      "text/html": [
       "<pre>Preparing data set.</pre>"
      ],
      "text/plain": [
       "Preparing data set."
      ]
     },
     "metadata": {},
     "output_type": "display_data"
    },
    {
     "data": {
      "text/html": [
       "<pre>    Data has 449083 observations with 179952 users and 101672 items.</pre>"
      ],
      "text/plain": [
       "    Data has 449083 observations with 179952 users and 101672 items."
      ]
     },
     "metadata": {},
     "output_type": "display_data"
    },
    {
     "data": {
      "text/html": [
       "<pre>    Data prepared in: 0.40196s</pre>"
      ],
      "text/plain": [
       "    Data prepared in: 0.40196s"
      ]
     },
     "metadata": {},
     "output_type": "display_data"
    },
    {
     "data": {
      "text/html": [
       "<pre>Training model from provided data.</pre>"
      ],
      "text/plain": [
       "Training model from provided data."
      ]
     },
     "metadata": {},
     "output_type": "display_data"
    },
    {
     "data": {
      "text/html": [
       "<pre>Gathering per-item and per-user statistics.</pre>"
      ],
      "text/plain": [
       "Gathering per-item and per-user statistics."
      ]
     },
     "metadata": {},
     "output_type": "display_data"
    },
    {
     "data": {
      "text/html": [
       "<pre>+--------------------------------+------------+</pre>"
      ],
      "text/plain": [
       "+--------------------------------+------------+"
      ]
     },
     "metadata": {},
     "output_type": "display_data"
    },
    {
     "data": {
      "text/html": [
       "<pre>| Elapsed Time (Item Statistics) | % Complete |</pre>"
      ],
      "text/plain": [
       "| Elapsed Time (Item Statistics) | % Complete |"
      ]
     },
     "metadata": {},
     "output_type": "display_data"
    },
    {
     "data": {
      "text/html": [
       "<pre>+--------------------------------+------------+</pre>"
      ],
      "text/plain": [
       "+--------------------------------+------------+"
      ]
     },
     "metadata": {},
     "output_type": "display_data"
    },
    {
     "data": {
      "text/html": [
       "<pre>| 6.002ms                        | 0.5        |</pre>"
      ],
      "text/plain": [
       "| 6.002ms                        | 0.5        |"
      ]
     },
     "metadata": {},
     "output_type": "display_data"
    },
    {
     "data": {
      "text/html": [
       "<pre>| 102.777ms                      | 100        |</pre>"
      ],
      "text/plain": [
       "| 102.777ms                      | 100        |"
      ]
     },
     "metadata": {},
     "output_type": "display_data"
    },
    {
     "data": {
      "text/html": [
       "<pre>+--------------------------------+------------+</pre>"
      ],
      "text/plain": [
       "+--------------------------------+------------+"
      ]
     },
     "metadata": {},
     "output_type": "display_data"
    },
    {
     "data": {
      "text/html": [
       "<pre>Setting up lookup tables.</pre>"
      ],
      "text/plain": [
       "Setting up lookup tables."
      ]
     },
     "metadata": {},
     "output_type": "display_data"
    },
    {
     "data": {
      "text/html": [
       "<pre>Processing the 32 most common items by brute force search.</pre>"
      ],
      "text/plain": [
       "Processing the 32 most common items by brute force search."
      ]
     },
     "metadata": {},
     "output_type": "display_data"
    },
    {
     "data": {
      "text/html": [
       "<pre>Transposing user-item lists for use in nearest neighbor search.</pre>"
      ],
      "text/plain": [
       "Transposing user-item lists for use in nearest neighbor search."
      ]
     },
     "metadata": {},
     "output_type": "display_data"
    },
    {
     "data": {
      "text/html": [
       "<pre>+------------------------------------+------------+</pre>"
      ],
      "text/plain": [
       "+------------------------------------+------------+"
      ]
     },
     "metadata": {},
     "output_type": "display_data"
    },
    {
     "data": {
      "text/html": [
       "<pre>| Elapsed Time (Data Transposition)) | % Complete |</pre>"
      ],
      "text/plain": [
       "| Elapsed Time (Data Transposition)) | % Complete |"
      ]
     },
     "metadata": {},
     "output_type": "display_data"
    },
    {
     "data": {
      "text/html": [
       "<pre>+------------------------------------+------------+</pre>"
      ],
      "text/plain": [
       "+------------------------------------+------------+"
      ]
     },
     "metadata": {},
     "output_type": "display_data"
    },
    {
     "data": {
      "text/html": [
       "<pre>| 2.196ms                            | 0          |</pre>"
      ],
      "text/plain": [
       "| 2.196ms                            | 0          |"
      ]
     },
     "metadata": {},
     "output_type": "display_data"
    },
    {
     "data": {
      "text/html": [
       "<pre>| 93.523ms                           | 100        |</pre>"
      ],
      "text/plain": [
       "| 93.523ms                           | 100        |"
      ]
     },
     "metadata": {},
     "output_type": "display_data"
    },
    {
     "data": {
      "text/html": [
       "<pre>+------------------------------------+------------+</pre>"
      ],
      "text/plain": [
       "+------------------------------------+------------+"
      ]
     },
     "metadata": {},
     "output_type": "display_data"
    },
    {
     "data": {
      "text/html": [
       "<pre>+-------------------------------------+------------------+-----------------+</pre>"
      ],
      "text/plain": [
       "+-------------------------------------+------------------+-----------------+"
      ]
     },
     "metadata": {},
     "output_type": "display_data"
    },
    {
     "data": {
      "text/html": [
       "<pre>| Elapsed Time (Constructing Lookups) | Total % Complete | Items Processed |</pre>"
      ],
      "text/plain": [
       "| Elapsed Time (Constructing Lookups) | Total % Complete | Items Processed |"
      ]
     },
     "metadata": {},
     "output_type": "display_data"
    },
    {
     "data": {
      "text/html": [
       "<pre>+-------------------------------------+------------------+-----------------+</pre>"
      ],
      "text/plain": [
       "+-------------------------------------+------------------+-----------------+"
      ]
     },
     "metadata": {},
     "output_type": "display_data"
    },
    {
     "data": {
      "text/html": [
       "<pre>| 326.107ms                           | 0                | 0               |</pre>"
      ],
      "text/plain": [
       "| 326.107ms                           | 0                | 0               |"
      ]
     },
     "metadata": {},
     "output_type": "display_data"
    },
    {
     "data": {
      "text/html": [
       "<pre>+-------------------------------------+------------------+-----------------+</pre>"
      ],
      "text/plain": [
       "+-------------------------------------+------------------+-----------------+"
      ]
     },
     "metadata": {},
     "output_type": "display_data"
    },
    {
     "data": {
      "text/html": [
       "<pre>Processing data in one pass using sparse lookup tables.</pre>"
      ],
      "text/plain": [
       "Processing data in one pass using sparse lookup tables."
      ]
     },
     "metadata": {},
     "output_type": "display_data"
    },
    {
     "data": {
      "text/html": [
       "<pre>+-------------------------------------+------------------+-----------------+</pre>"
      ],
      "text/plain": [
       "+-------------------------------------+------------------+-----------------+"
      ]
     },
     "metadata": {},
     "output_type": "display_data"
    },
    {
     "data": {
      "text/html": [
       "<pre>| Elapsed Time (Constructing Lookups) | Total % Complete | Items Processed |</pre>"
      ],
      "text/plain": [
       "| Elapsed Time (Constructing Lookups) | Total % Complete | Items Processed |"
      ]
     },
     "metadata": {},
     "output_type": "display_data"
    },
    {
     "data": {
      "text/html": [
       "<pre>+-------------------------------------+------------------+-----------------+</pre>"
      ],
      "text/plain": [
       "+-------------------------------------+------------------+-----------------+"
      ]
     },
     "metadata": {},
     "output_type": "display_data"
    },
    {
     "data": {
      "text/html": [
       "<pre>| 1.88s                               | 100              | 101672          |</pre>"
      ],
      "text/plain": [
       "| 1.88s                               | 100              | 101672          |"
      ]
     },
     "metadata": {},
     "output_type": "display_data"
    },
    {
     "data": {
      "text/html": [
       "<pre>+-------------------------------------+------------------+-----------------+</pre>"
      ],
      "text/plain": [
       "+-------------------------------------+------------------+-----------------+"
      ]
     },
     "metadata": {},
     "output_type": "display_data"
    },
    {
     "data": {
      "text/html": [
       "<pre>Finalizing lookup tables.</pre>"
      ],
      "text/plain": [
       "Finalizing lookup tables."
      ]
     },
     "metadata": {},
     "output_type": "display_data"
    },
    {
     "data": {
      "text/html": [
       "<pre>Generating candidate set for working with new users.</pre>"
      ],
      "text/plain": [
       "Generating candidate set for working with new users."
      ]
     },
     "metadata": {},
     "output_type": "display_data"
    },
    {
     "data": {
      "text/html": [
       "<pre>Finished training in 2.95254s</pre>"
      ],
      "text/plain": [
       "Finished training in 2.95254s"
      ]
     },
     "metadata": {},
     "output_type": "display_data"
    }
   ],
   "source": [
    "m=tc.recommender.item_similarity_recommender.create(sf, user_id='customer_id', \n",
    "                                                  item_id='product_id', target=None, \n",
    "                                                  user_data=None, \n",
    "                                                  item_data=None, verbose=True, \n",
    "                                                  target_memory_usage=3*1024*1024*1024)"
   ]
  },
  {
   "cell_type": "code",
   "execution_count": 23,
   "metadata": {},
   "outputs": [
    {
     "data": {
      "text/html": [
       "<pre>recommendations finished on 1000/179952 queries. users per second: 1234.33</pre>"
      ],
      "text/plain": [
       "recommendations finished on 1000/179952 queries. users per second: 1234.33"
      ]
     },
     "metadata": {},
     "output_type": "display_data"
    },
    {
     "data": {
      "text/html": [
       "<pre>recommendations finished on 2000/179952 queries. users per second: 1180.32</pre>"
      ],
      "text/plain": [
       "recommendations finished on 2000/179952 queries. users per second: 1180.32"
      ]
     },
     "metadata": {},
     "output_type": "display_data"
    },
    {
     "data": {
      "text/html": [
       "<pre>recommendations finished on 3000/179952 queries. users per second: 1179.22</pre>"
      ],
      "text/plain": [
       "recommendations finished on 3000/179952 queries. users per second: 1179.22"
      ]
     },
     "metadata": {},
     "output_type": "display_data"
    },
    {
     "data": {
      "text/html": [
       "<pre>recommendations finished on 4000/179952 queries. users per second: 1200.03</pre>"
      ],
      "text/plain": [
       "recommendations finished on 4000/179952 queries. users per second: 1200.03"
      ]
     },
     "metadata": {},
     "output_type": "display_data"
    },
    {
     "data": {
      "text/html": [
       "<pre>recommendations finished on 5000/179952 queries. users per second: 1206.58</pre>"
      ],
      "text/plain": [
       "recommendations finished on 5000/179952 queries. users per second: 1206.58"
      ]
     },
     "metadata": {},
     "output_type": "display_data"
    },
    {
     "data": {
      "text/html": [
       "<pre>recommendations finished on 6000/179952 queries. users per second: 1223.7</pre>"
      ],
      "text/plain": [
       "recommendations finished on 6000/179952 queries. users per second: 1223.7"
      ]
     },
     "metadata": {},
     "output_type": "display_data"
    },
    {
     "data": {
      "text/html": [
       "<pre>recommendations finished on 7000/179952 queries. users per second: 1231.78</pre>"
      ],
      "text/plain": [
       "recommendations finished on 7000/179952 queries. users per second: 1231.78"
      ]
     },
     "metadata": {},
     "output_type": "display_data"
    },
    {
     "data": {
      "text/html": [
       "<pre>recommendations finished on 8000/179952 queries. users per second: 1228.93</pre>"
      ],
      "text/plain": [
       "recommendations finished on 8000/179952 queries. users per second: 1228.93"
      ]
     },
     "metadata": {},
     "output_type": "display_data"
    },
    {
     "data": {
      "text/html": [
       "<pre>recommendations finished on 9000/179952 queries. users per second: 1233.38</pre>"
      ],
      "text/plain": [
       "recommendations finished on 9000/179952 queries. users per second: 1233.38"
      ]
     },
     "metadata": {},
     "output_type": "display_data"
    },
    {
     "data": {
      "text/html": [
       "<pre>recommendations finished on 10000/179952 queries. users per second: 1221.1</pre>"
      ],
      "text/plain": [
       "recommendations finished on 10000/179952 queries. users per second: 1221.1"
      ]
     },
     "metadata": {},
     "output_type": "display_data"
    },
    {
     "data": {
      "text/html": [
       "<pre>recommendations finished on 11000/179952 queries. users per second: 1227.27</pre>"
      ],
      "text/plain": [
       "recommendations finished on 11000/179952 queries. users per second: 1227.27"
      ]
     },
     "metadata": {},
     "output_type": "display_data"
    },
    {
     "data": {
      "text/html": [
       "<pre>recommendations finished on 12000/179952 queries. users per second: 1229.53</pre>"
      ],
      "text/plain": [
       "recommendations finished on 12000/179952 queries. users per second: 1229.53"
      ]
     },
     "metadata": {},
     "output_type": "display_data"
    },
    {
     "data": {
      "text/html": [
       "<pre>recommendations finished on 13000/179952 queries. users per second: 1230.77</pre>"
      ],
      "text/plain": [
       "recommendations finished on 13000/179952 queries. users per second: 1230.77"
      ]
     },
     "metadata": {},
     "output_type": "display_data"
    },
    {
     "data": {
      "text/html": [
       "<pre>recommendations finished on 14000/179952 queries. users per second: 1231.11</pre>"
      ],
      "text/plain": [
       "recommendations finished on 14000/179952 queries. users per second: 1231.11"
      ]
     },
     "metadata": {},
     "output_type": "display_data"
    },
    {
     "data": {
      "text/html": [
       "<pre>recommendations finished on 15000/179952 queries. users per second: 1224.67</pre>"
      ],
      "text/plain": [
       "recommendations finished on 15000/179952 queries. users per second: 1224.67"
      ]
     },
     "metadata": {},
     "output_type": "display_data"
    },
    {
     "data": {
      "text/html": [
       "<pre>recommendations finished on 16000/179952 queries. users per second: 1228.73</pre>"
      ],
      "text/plain": [
       "recommendations finished on 16000/179952 queries. users per second: 1228.73"
      ]
     },
     "metadata": {},
     "output_type": "display_data"
    },
    {
     "data": {
      "text/html": [
       "<pre>recommendations finished on 17000/179952 queries. users per second: 1225.55</pre>"
      ],
      "text/plain": [
       "recommendations finished on 17000/179952 queries. users per second: 1225.55"
      ]
     },
     "metadata": {},
     "output_type": "display_data"
    },
    {
     "data": {
      "text/html": [
       "<pre>recommendations finished on 18000/179952 queries. users per second: 1224.18</pre>"
      ],
      "text/plain": [
       "recommendations finished on 18000/179952 queries. users per second: 1224.18"
      ]
     },
     "metadata": {},
     "output_type": "display_data"
    },
    {
     "data": {
      "text/html": [
       "<pre>recommendations finished on 19000/179952 queries. users per second: 1228.28</pre>"
      ],
      "text/plain": [
       "recommendations finished on 19000/179952 queries. users per second: 1228.28"
      ]
     },
     "metadata": {},
     "output_type": "display_data"
    },
    {
     "data": {
      "text/html": [
       "<pre>recommendations finished on 20000/179952 queries. users per second: 1231.74</pre>"
      ],
      "text/plain": [
       "recommendations finished on 20000/179952 queries. users per second: 1231.74"
      ]
     },
     "metadata": {},
     "output_type": "display_data"
    },
    {
     "data": {
      "text/html": [
       "<pre>recommendations finished on 21000/179952 queries. users per second: 1234.48</pre>"
      ],
      "text/plain": [
       "recommendations finished on 21000/179952 queries. users per second: 1234.48"
      ]
     },
     "metadata": {},
     "output_type": "display_data"
    },
    {
     "data": {
      "text/html": [
       "<pre>recommendations finished on 22000/179952 queries. users per second: 1225.34</pre>"
      ],
      "text/plain": [
       "recommendations finished on 22000/179952 queries. users per second: 1225.34"
      ]
     },
     "metadata": {},
     "output_type": "display_data"
    },
    {
     "data": {
      "text/html": [
       "<pre>recommendations finished on 23000/179952 queries. users per second: 1228.93</pre>"
      ],
      "text/plain": [
       "recommendations finished on 23000/179952 queries. users per second: 1228.93"
      ]
     },
     "metadata": {},
     "output_type": "display_data"
    },
    {
     "data": {
      "text/html": [
       "<pre>recommendations finished on 24000/179952 queries. users per second: 1231.33</pre>"
      ],
      "text/plain": [
       "recommendations finished on 24000/179952 queries. users per second: 1231.33"
      ]
     },
     "metadata": {},
     "output_type": "display_data"
    },
    {
     "data": {
      "text/html": [
       "<pre>recommendations finished on 25000/179952 queries. users per second: 1231.88</pre>"
      ],
      "text/plain": [
       "recommendations finished on 25000/179952 queries. users per second: 1231.88"
      ]
     },
     "metadata": {},
     "output_type": "display_data"
    },
    {
     "data": {
      "text/html": [
       "<pre>recommendations finished on 26000/179952 queries. users per second: 1233.5</pre>"
      ],
      "text/plain": [
       "recommendations finished on 26000/179952 queries. users per second: 1233.5"
      ]
     },
     "metadata": {},
     "output_type": "display_data"
    },
    {
     "data": {
      "text/html": [
       "<pre>recommendations finished on 27000/179952 queries. users per second: 1232.95</pre>"
      ],
      "text/plain": [
       "recommendations finished on 27000/179952 queries. users per second: 1232.95"
      ]
     },
     "metadata": {},
     "output_type": "display_data"
    },
    {
     "data": {
      "text/html": [
       "<pre>recommendations finished on 28000/179952 queries. users per second: 1227.2</pre>"
      ],
      "text/plain": [
       "recommendations finished on 28000/179952 queries. users per second: 1227.2"
      ]
     },
     "metadata": {},
     "output_type": "display_data"
    },
    {
     "data": {
      "text/html": [
       "<pre>recommendations finished on 29000/179952 queries. users per second: 1220.83</pre>"
      ],
      "text/plain": [
       "recommendations finished on 29000/179952 queries. users per second: 1220.83"
      ]
     },
     "metadata": {},
     "output_type": "display_data"
    },
    {
     "data": {
      "text/html": [
       "<pre>recommendations finished on 30000/179952 queries. users per second: 1214.81</pre>"
      ],
      "text/plain": [
       "recommendations finished on 30000/179952 queries. users per second: 1214.81"
      ]
     },
     "metadata": {},
     "output_type": "display_data"
    },
    {
     "data": {
      "text/html": [
       "<pre>recommendations finished on 31000/179952 queries. users per second: 1213.66</pre>"
      ],
      "text/plain": [
       "recommendations finished on 31000/179952 queries. users per second: 1213.66"
      ]
     },
     "metadata": {},
     "output_type": "display_data"
    },
    {
     "data": {
      "text/html": [
       "<pre>recommendations finished on 32000/179952 queries. users per second: 1207.06</pre>"
      ],
      "text/plain": [
       "recommendations finished on 32000/179952 queries. users per second: 1207.06"
      ]
     },
     "metadata": {},
     "output_type": "display_data"
    },
    {
     "data": {
      "text/html": [
       "<pre>recommendations finished on 33000/179952 queries. users per second: 1208.17</pre>"
      ],
      "text/plain": [
       "recommendations finished on 33000/179952 queries. users per second: 1208.17"
      ]
     },
     "metadata": {},
     "output_type": "display_data"
    },
    {
     "data": {
      "text/html": [
       "<pre>recommendations finished on 34000/179952 queries. users per second: 1210.49</pre>"
      ],
      "text/plain": [
       "recommendations finished on 34000/179952 queries. users per second: 1210.49"
      ]
     },
     "metadata": {},
     "output_type": "display_data"
    },
    {
     "data": {
      "text/html": [
       "<pre>recommendations finished on 35000/179952 queries. users per second: 1212.9</pre>"
      ],
      "text/plain": [
       "recommendations finished on 35000/179952 queries. users per second: 1212.9"
      ]
     },
     "metadata": {},
     "output_type": "display_data"
    },
    {
     "data": {
      "text/html": [
       "<pre>recommendations finished on 36000/179952 queries. users per second: 1215.28</pre>"
      ],
      "text/plain": [
       "recommendations finished on 36000/179952 queries. users per second: 1215.28"
      ]
     },
     "metadata": {},
     "output_type": "display_data"
    },
    {
     "data": {
      "text/html": [
       "<pre>recommendations finished on 37000/179952 queries. users per second: 1216.92</pre>"
      ],
      "text/plain": [
       "recommendations finished on 37000/179952 queries. users per second: 1216.92"
      ]
     },
     "metadata": {},
     "output_type": "display_data"
    },
    {
     "data": {
      "text/html": [
       "<pre>recommendations finished on 38000/179952 queries. users per second: 1219.38</pre>"
      ],
      "text/plain": [
       "recommendations finished on 38000/179952 queries. users per second: 1219.38"
      ]
     },
     "metadata": {},
     "output_type": "display_data"
    },
    {
     "data": {
      "text/html": [
       "<pre>recommendations finished on 39000/179952 queries. users per second: 1222.32</pre>"
      ],
      "text/plain": [
       "recommendations finished on 39000/179952 queries. users per second: 1222.32"
      ]
     },
     "metadata": {},
     "output_type": "display_data"
    },
    {
     "data": {
      "text/html": [
       "<pre>recommendations finished on 40000/179952 queries. users per second: 1224.36</pre>"
      ],
      "text/plain": [
       "recommendations finished on 40000/179952 queries. users per second: 1224.36"
      ]
     },
     "metadata": {},
     "output_type": "display_data"
    },
    {
     "data": {
      "text/html": [
       "<pre>recommendations finished on 41000/179952 queries. users per second: 1220.74</pre>"
      ],
      "text/plain": [
       "recommendations finished on 41000/179952 queries. users per second: 1220.74"
      ]
     },
     "metadata": {},
     "output_type": "display_data"
    },
    {
     "data": {
      "text/html": [
       "<pre>recommendations finished on 42000/179952 queries. users per second: 1219.8</pre>"
      ],
      "text/plain": [
       "recommendations finished on 42000/179952 queries. users per second: 1219.8"
      ]
     },
     "metadata": {},
     "output_type": "display_data"
    },
    {
     "data": {
      "text/html": [
       "<pre>recommendations finished on 43000/179952 queries. users per second: 1222</pre>"
      ],
      "text/plain": [
       "recommendations finished on 43000/179952 queries. users per second: 1222"
      ]
     },
     "metadata": {},
     "output_type": "display_data"
    },
    {
     "data": {
      "text/html": [
       "<pre>recommendations finished on 44000/179952 queries. users per second: 1223.92</pre>"
      ],
      "text/plain": [
       "recommendations finished on 44000/179952 queries. users per second: 1223.92"
      ]
     },
     "metadata": {},
     "output_type": "display_data"
    },
    {
     "data": {
      "text/html": [
       "<pre>recommendations finished on 45000/179952 queries. users per second: 1220.23</pre>"
      ],
      "text/plain": [
       "recommendations finished on 45000/179952 queries. users per second: 1220.23"
      ]
     },
     "metadata": {},
     "output_type": "display_data"
    },
    {
     "data": {
      "text/html": [
       "<pre>recommendations finished on 46000/179952 queries. users per second: 1220.35</pre>"
      ],
      "text/plain": [
       "recommendations finished on 46000/179952 queries. users per second: 1220.35"
      ]
     },
     "metadata": {},
     "output_type": "display_data"
    },
    {
     "data": {
      "text/html": [
       "<pre>recommendations finished on 47000/179952 queries. users per second: 1222.14</pre>"
      ],
      "text/plain": [
       "recommendations finished on 47000/179952 queries. users per second: 1222.14"
      ]
     },
     "metadata": {},
     "output_type": "display_data"
    },
    {
     "data": {
      "text/html": [
       "<pre>recommendations finished on 48000/179952 queries. users per second: 1216.08</pre>"
      ],
      "text/plain": [
       "recommendations finished on 48000/179952 queries. users per second: 1216.08"
      ]
     },
     "metadata": {},
     "output_type": "display_data"
    },
    {
     "data": {
      "text/html": [
       "<pre>recommendations finished on 49000/179952 queries. users per second: 1217.63</pre>"
      ],
      "text/plain": [
       "recommendations finished on 49000/179952 queries. users per second: 1217.63"
      ]
     },
     "metadata": {},
     "output_type": "display_data"
    },
    {
     "data": {
      "text/html": [
       "<pre>recommendations finished on 50000/179952 queries. users per second: 1217.43</pre>"
      ],
      "text/plain": [
       "recommendations finished on 50000/179952 queries. users per second: 1217.43"
      ]
     },
     "metadata": {},
     "output_type": "display_data"
    },
    {
     "data": {
      "text/html": [
       "<pre>recommendations finished on 51000/179952 queries. users per second: 1217.02</pre>"
      ],
      "text/plain": [
       "recommendations finished on 51000/179952 queries. users per second: 1217.02"
      ]
     },
     "metadata": {},
     "output_type": "display_data"
    },
    {
     "data": {
      "text/html": [
       "<pre>recommendations finished on 52000/179952 queries. users per second: 1217.28</pre>"
      ],
      "text/plain": [
       "recommendations finished on 52000/179952 queries. users per second: 1217.28"
      ]
     },
     "metadata": {},
     "output_type": "display_data"
    },
    {
     "data": {
      "text/html": [
       "<pre>recommendations finished on 53000/179952 queries. users per second: 1217.5</pre>"
      ],
      "text/plain": [
       "recommendations finished on 53000/179952 queries. users per second: 1217.5"
      ]
     },
     "metadata": {},
     "output_type": "display_data"
    },
    {
     "data": {
      "text/html": [
       "<pre>recommendations finished on 54000/179952 queries. users per second: 1216.79</pre>"
      ],
      "text/plain": [
       "recommendations finished on 54000/179952 queries. users per second: 1216.79"
      ]
     },
     "metadata": {},
     "output_type": "display_data"
    },
    {
     "data": {
      "text/html": [
       "<pre>recommendations finished on 55000/179952 queries. users per second: 1218.74</pre>"
      ],
      "text/plain": [
       "recommendations finished on 55000/179952 queries. users per second: 1218.74"
      ]
     },
     "metadata": {},
     "output_type": "display_data"
    },
    {
     "data": {
      "text/html": [
       "<pre>recommendations finished on 56000/179952 queries. users per second: 1219.66</pre>"
      ],
      "text/plain": [
       "recommendations finished on 56000/179952 queries. users per second: 1219.66"
      ]
     },
     "metadata": {},
     "output_type": "display_data"
    },
    {
     "data": {
      "text/html": [
       "<pre>recommendations finished on 57000/179952 queries. users per second: 1221.5</pre>"
      ],
      "text/plain": [
       "recommendations finished on 57000/179952 queries. users per second: 1221.5"
      ]
     },
     "metadata": {},
     "output_type": "display_data"
    },
    {
     "data": {
      "text/html": [
       "<pre>recommendations finished on 58000/179952 queries. users per second: 1223.63</pre>"
      ],
      "text/plain": [
       "recommendations finished on 58000/179952 queries. users per second: 1223.63"
      ]
     },
     "metadata": {},
     "output_type": "display_data"
    },
    {
     "data": {
      "text/html": [
       "<pre>recommendations finished on 59000/179952 queries. users per second: 1225.68</pre>"
      ],
      "text/plain": [
       "recommendations finished on 59000/179952 queries. users per second: 1225.68"
      ]
     },
     "metadata": {},
     "output_type": "display_data"
    },
    {
     "data": {
      "text/html": [
       "<pre>recommendations finished on 60000/179952 queries. users per second: 1227.41</pre>"
      ],
      "text/plain": [
       "recommendations finished on 60000/179952 queries. users per second: 1227.41"
      ]
     },
     "metadata": {},
     "output_type": "display_data"
    },
    {
     "data": {
      "text/html": [
       "<pre>recommendations finished on 61000/179952 queries. users per second: 1228.4</pre>"
      ],
      "text/plain": [
       "recommendations finished on 61000/179952 queries. users per second: 1228.4"
      ]
     },
     "metadata": {},
     "output_type": "display_data"
    },
    {
     "data": {
      "text/html": [
       "<pre>recommendations finished on 62000/179952 queries. users per second: 1229.03</pre>"
      ],
      "text/plain": [
       "recommendations finished on 62000/179952 queries. users per second: 1229.03"
      ]
     },
     "metadata": {},
     "output_type": "display_data"
    },
    {
     "data": {
      "text/html": [
       "<pre>recommendations finished on 63000/179952 queries. users per second: 1225.59</pre>"
      ],
      "text/plain": [
       "recommendations finished on 63000/179952 queries. users per second: 1225.59"
      ]
     },
     "metadata": {},
     "output_type": "display_data"
    },
    {
     "data": {
      "text/html": [
       "<pre>recommendations finished on 64000/179952 queries. users per second: 1226.6</pre>"
      ],
      "text/plain": [
       "recommendations finished on 64000/179952 queries. users per second: 1226.6"
      ]
     },
     "metadata": {},
     "output_type": "display_data"
    },
    {
     "data": {
      "text/html": [
       "<pre>recommendations finished on 65000/179952 queries. users per second: 1228.18</pre>"
      ],
      "text/plain": [
       "recommendations finished on 65000/179952 queries. users per second: 1228.18"
      ]
     },
     "metadata": {},
     "output_type": "display_data"
    },
    {
     "data": {
      "text/html": [
       "<pre>recommendations finished on 66000/179952 queries. users per second: 1229.68</pre>"
      ],
      "text/plain": [
       "recommendations finished on 66000/179952 queries. users per second: 1229.68"
      ]
     },
     "metadata": {},
     "output_type": "display_data"
    },
    {
     "data": {
      "text/html": [
       "<pre>recommendations finished on 67000/179952 queries. users per second: 1226.03</pre>"
      ],
      "text/plain": [
       "recommendations finished on 67000/179952 queries. users per second: 1226.03"
      ]
     },
     "metadata": {},
     "output_type": "display_data"
    },
    {
     "data": {
      "text/html": [
       "<pre>recommendations finished on 68000/179952 queries. users per second: 1222.94</pre>"
      ],
      "text/plain": [
       "recommendations finished on 68000/179952 queries. users per second: 1222.94"
      ]
     },
     "metadata": {},
     "output_type": "display_data"
    },
    {
     "data": {
      "text/html": [
       "<pre>recommendations finished on 69000/179952 queries. users per second: 1223.86</pre>"
      ],
      "text/plain": [
       "recommendations finished on 69000/179952 queries. users per second: 1223.86"
      ]
     },
     "metadata": {},
     "output_type": "display_data"
    },
    {
     "data": {
      "text/html": [
       "<pre>recommendations finished on 70000/179952 queries. users per second: 1224.96</pre>"
      ],
      "text/plain": [
       "recommendations finished on 70000/179952 queries. users per second: 1224.96"
      ]
     },
     "metadata": {},
     "output_type": "display_data"
    },
    {
     "data": {
      "text/html": [
       "<pre>recommendations finished on 71000/179952 queries. users per second: 1220.48</pre>"
      ],
      "text/plain": [
       "recommendations finished on 71000/179952 queries. users per second: 1220.48"
      ]
     },
     "metadata": {},
     "output_type": "display_data"
    },
    {
     "data": {
      "text/html": [
       "<pre>recommendations finished on 72000/179952 queries. users per second: 1217.81</pre>"
      ],
      "text/plain": [
       "recommendations finished on 72000/179952 queries. users per second: 1217.81"
      ]
     },
     "metadata": {},
     "output_type": "display_data"
    },
    {
     "data": {
      "text/html": [
       "<pre>recommendations finished on 73000/179952 queries. users per second: 1215.39</pre>"
      ],
      "text/plain": [
       "recommendations finished on 73000/179952 queries. users per second: 1215.39"
      ]
     },
     "metadata": {},
     "output_type": "display_data"
    },
    {
     "data": {
      "text/html": [
       "<pre>recommendations finished on 74000/179952 queries. users per second: 1212.8</pre>"
      ],
      "text/plain": [
       "recommendations finished on 74000/179952 queries. users per second: 1212.8"
      ]
     },
     "metadata": {},
     "output_type": "display_data"
    },
    {
     "data": {
      "text/html": [
       "<pre>recommendations finished on 75000/179952 queries. users per second: 1208.67</pre>"
      ],
      "text/plain": [
       "recommendations finished on 75000/179952 queries. users per second: 1208.67"
      ]
     },
     "metadata": {},
     "output_type": "display_data"
    },
    {
     "data": {
      "text/html": [
       "<pre>recommendations finished on 76000/179952 queries. users per second: 1201.76</pre>"
      ],
      "text/plain": [
       "recommendations finished on 76000/179952 queries. users per second: 1201.76"
      ]
     },
     "metadata": {},
     "output_type": "display_data"
    },
    {
     "data": {
      "text/html": [
       "<pre>recommendations finished on 77000/179952 queries. users per second: 1198.15</pre>"
      ],
      "text/plain": [
       "recommendations finished on 77000/179952 queries. users per second: 1198.15"
      ]
     },
     "metadata": {},
     "output_type": "display_data"
    },
    {
     "data": {
      "text/html": [
       "<pre>recommendations finished on 78000/179952 queries. users per second: 1197.8</pre>"
      ],
      "text/plain": [
       "recommendations finished on 78000/179952 queries. users per second: 1197.8"
      ]
     },
     "metadata": {},
     "output_type": "display_data"
    },
    {
     "data": {
      "text/html": [
       "<pre>recommendations finished on 79000/179952 queries. users per second: 1196.71</pre>"
      ],
      "text/plain": [
       "recommendations finished on 79000/179952 queries. users per second: 1196.71"
      ]
     },
     "metadata": {},
     "output_type": "display_data"
    },
    {
     "data": {
      "text/html": [
       "<pre>recommendations finished on 80000/179952 queries. users per second: 1191.94</pre>"
      ],
      "text/plain": [
       "recommendations finished on 80000/179952 queries. users per second: 1191.94"
      ]
     },
     "metadata": {},
     "output_type": "display_data"
    },
    {
     "data": {
      "text/html": [
       "<pre>recommendations finished on 81000/179952 queries. users per second: 1185.89</pre>"
      ],
      "text/plain": [
       "recommendations finished on 81000/179952 queries. users per second: 1185.89"
      ]
     },
     "metadata": {},
     "output_type": "display_data"
    },
    {
     "data": {
      "text/html": [
       "<pre>recommendations finished on 82000/179952 queries. users per second: 1184.76</pre>"
      ],
      "text/plain": [
       "recommendations finished on 82000/179952 queries. users per second: 1184.76"
      ]
     },
     "metadata": {},
     "output_type": "display_data"
    },
    {
     "data": {
      "text/html": [
       "<pre>recommendations finished on 83000/179952 queries. users per second: 1184.37</pre>"
      ],
      "text/plain": [
       "recommendations finished on 83000/179952 queries. users per second: 1184.37"
      ]
     },
     "metadata": {},
     "output_type": "display_data"
    },
    {
     "data": {
      "text/html": [
       "<pre>recommendations finished on 84000/179952 queries. users per second: 1181.68</pre>"
      ],
      "text/plain": [
       "recommendations finished on 84000/179952 queries. users per second: 1181.68"
      ]
     },
     "metadata": {},
     "output_type": "display_data"
    },
    {
     "data": {
      "text/html": [
       "<pre>recommendations finished on 85000/179952 queries. users per second: 1176.78</pre>"
      ],
      "text/plain": [
       "recommendations finished on 85000/179952 queries. users per second: 1176.78"
      ]
     },
     "metadata": {},
     "output_type": "display_data"
    },
    {
     "data": {
      "text/html": [
       "<pre>recommendations finished on 86000/179952 queries. users per second: 1174.33</pre>"
      ],
      "text/plain": [
       "recommendations finished on 86000/179952 queries. users per second: 1174.33"
      ]
     },
     "metadata": {},
     "output_type": "display_data"
    },
    {
     "data": {
      "text/html": [
       "<pre>recommendations finished on 87000/179952 queries. users per second: 1171.35</pre>"
      ],
      "text/plain": [
       "recommendations finished on 87000/179952 queries. users per second: 1171.35"
      ]
     },
     "metadata": {},
     "output_type": "display_data"
    },
    {
     "data": {
      "text/html": [
       "<pre>recommendations finished on 88000/179952 queries. users per second: 1167.24</pre>"
      ],
      "text/plain": [
       "recommendations finished on 88000/179952 queries. users per second: 1167.24"
      ]
     },
     "metadata": {},
     "output_type": "display_data"
    },
    {
     "data": {
      "text/html": [
       "<pre>recommendations finished on 89000/179952 queries. users per second: 1163.79</pre>"
      ],
      "text/plain": [
       "recommendations finished on 89000/179952 queries. users per second: 1163.79"
      ]
     },
     "metadata": {},
     "output_type": "display_data"
    },
    {
     "data": {
      "text/html": [
       "<pre>recommendations finished on 90000/179952 queries. users per second: 1161.84</pre>"
      ],
      "text/plain": [
       "recommendations finished on 90000/179952 queries. users per second: 1161.84"
      ]
     },
     "metadata": {},
     "output_type": "display_data"
    },
    {
     "data": {
      "text/html": [
       "<pre>recommendations finished on 91000/179952 queries. users per second: 1159.09</pre>"
      ],
      "text/plain": [
       "recommendations finished on 91000/179952 queries. users per second: 1159.09"
      ]
     },
     "metadata": {},
     "output_type": "display_data"
    },
    {
     "data": {
      "text/html": [
       "<pre>recommendations finished on 92000/179952 queries. users per second: 1155.86</pre>"
      ],
      "text/plain": [
       "recommendations finished on 92000/179952 queries. users per second: 1155.86"
      ]
     },
     "metadata": {},
     "output_type": "display_data"
    },
    {
     "data": {
      "text/html": [
       "<pre>recommendations finished on 93000/179952 queries. users per second: 1153.88</pre>"
      ],
      "text/plain": [
       "recommendations finished on 93000/179952 queries. users per second: 1153.88"
      ]
     },
     "metadata": {},
     "output_type": "display_data"
    },
    {
     "data": {
      "text/html": [
       "<pre>recommendations finished on 94000/179952 queries. users per second: 1150.25</pre>"
      ],
      "text/plain": [
       "recommendations finished on 94000/179952 queries. users per second: 1150.25"
      ]
     },
     "metadata": {},
     "output_type": "display_data"
    },
    {
     "data": {
      "text/html": [
       "<pre>recommendations finished on 95000/179952 queries. users per second: 1149.73</pre>"
      ],
      "text/plain": [
       "recommendations finished on 95000/179952 queries. users per second: 1149.73"
      ]
     },
     "metadata": {},
     "output_type": "display_data"
    },
    {
     "data": {
      "text/html": [
       "<pre>recommendations finished on 96000/179952 queries. users per second: 1149.79</pre>"
      ],
      "text/plain": [
       "recommendations finished on 96000/179952 queries. users per second: 1149.79"
      ]
     },
     "metadata": {},
     "output_type": "display_data"
    },
    {
     "data": {
      "text/html": [
       "<pre>recommendations finished on 97000/179952 queries. users per second: 1150.18</pre>"
      ],
      "text/plain": [
       "recommendations finished on 97000/179952 queries. users per second: 1150.18"
      ]
     },
     "metadata": {},
     "output_type": "display_data"
    },
    {
     "data": {
      "text/html": [
       "<pre>recommendations finished on 98000/179952 queries. users per second: 1150.72</pre>"
      ],
      "text/plain": [
       "recommendations finished on 98000/179952 queries. users per second: 1150.72"
      ]
     },
     "metadata": {},
     "output_type": "display_data"
    },
    {
     "data": {
      "text/html": [
       "<pre>recommendations finished on 99000/179952 queries. users per second: 1151.28</pre>"
      ],
      "text/plain": [
       "recommendations finished on 99000/179952 queries. users per second: 1151.28"
      ]
     },
     "metadata": {},
     "output_type": "display_data"
    },
    {
     "data": {
      "text/html": [
       "<pre>recommendations finished on 100000/179952 queries. users per second: 1151.58</pre>"
      ],
      "text/plain": [
       "recommendations finished on 100000/179952 queries. users per second: 1151.58"
      ]
     },
     "metadata": {},
     "output_type": "display_data"
    },
    {
     "data": {
      "text/html": [
       "<pre>recommendations finished on 101000/179952 queries. users per second: 1150.4</pre>"
      ],
      "text/plain": [
       "recommendations finished on 101000/179952 queries. users per second: 1150.4"
      ]
     },
     "metadata": {},
     "output_type": "display_data"
    },
    {
     "data": {
      "text/html": [
       "<pre>recommendations finished on 102000/179952 queries. users per second: 1150.67</pre>"
      ],
      "text/plain": [
       "recommendations finished on 102000/179952 queries. users per second: 1150.67"
      ]
     },
     "metadata": {},
     "output_type": "display_data"
    },
    {
     "data": {
      "text/html": [
       "<pre>recommendations finished on 103000/179952 queries. users per second: 1150.61</pre>"
      ],
      "text/plain": [
       "recommendations finished on 103000/179952 queries. users per second: 1150.61"
      ]
     },
     "metadata": {},
     "output_type": "display_data"
    },
    {
     "data": {
      "text/html": [
       "<pre>recommendations finished on 104000/179952 queries. users per second: 1150.4</pre>"
      ],
      "text/plain": [
       "recommendations finished on 104000/179952 queries. users per second: 1150.4"
      ]
     },
     "metadata": {},
     "output_type": "display_data"
    },
    {
     "data": {
      "text/html": [
       "<pre>recommendations finished on 105000/179952 queries. users per second: 1149.48</pre>"
      ],
      "text/plain": [
       "recommendations finished on 105000/179952 queries. users per second: 1149.48"
      ]
     },
     "metadata": {},
     "output_type": "display_data"
    },
    {
     "data": {
      "text/html": [
       "<pre>recommendations finished on 106000/179952 queries. users per second: 1148.22</pre>"
      ],
      "text/plain": [
       "recommendations finished on 106000/179952 queries. users per second: 1148.22"
      ]
     },
     "metadata": {},
     "output_type": "display_data"
    },
    {
     "data": {
      "text/html": [
       "<pre>recommendations finished on 107000/179952 queries. users per second: 1147.27</pre>"
      ],
      "text/plain": [
       "recommendations finished on 107000/179952 queries. users per second: 1147.27"
      ]
     },
     "metadata": {},
     "output_type": "display_data"
    },
    {
     "data": {
      "text/html": [
       "<pre>recommendations finished on 108000/179952 queries. users per second: 1146.39</pre>"
      ],
      "text/plain": [
       "recommendations finished on 108000/179952 queries. users per second: 1146.39"
      ]
     },
     "metadata": {},
     "output_type": "display_data"
    },
    {
     "data": {
      "text/html": [
       "<pre>recommendations finished on 109000/179952 queries. users per second: 1146</pre>"
      ],
      "text/plain": [
       "recommendations finished on 109000/179952 queries. users per second: 1146"
      ]
     },
     "metadata": {},
     "output_type": "display_data"
    },
    {
     "data": {
      "text/html": [
       "<pre>recommendations finished on 110000/179952 queries. users per second: 1147.24</pre>"
      ],
      "text/plain": [
       "recommendations finished on 110000/179952 queries. users per second: 1147.24"
      ]
     },
     "metadata": {},
     "output_type": "display_data"
    },
    {
     "data": {
      "text/html": [
       "<pre>recommendations finished on 111000/179952 queries. users per second: 1148.61</pre>"
      ],
      "text/plain": [
       "recommendations finished on 111000/179952 queries. users per second: 1148.61"
      ]
     },
     "metadata": {},
     "output_type": "display_data"
    },
    {
     "data": {
      "text/html": [
       "<pre>recommendations finished on 112000/179952 queries. users per second: 1149.2</pre>"
      ],
      "text/plain": [
       "recommendations finished on 112000/179952 queries. users per second: 1149.2"
      ]
     },
     "metadata": {},
     "output_type": "display_data"
    },
    {
     "data": {
      "text/html": [
       "<pre>recommendations finished on 113000/179952 queries. users per second: 1148.74</pre>"
      ],
      "text/plain": [
       "recommendations finished on 113000/179952 queries. users per second: 1148.74"
      ]
     },
     "metadata": {},
     "output_type": "display_data"
    },
    {
     "data": {
      "text/html": [
       "<pre>recommendations finished on 114000/179952 queries. users per second: 1146.67</pre>"
      ],
      "text/plain": [
       "recommendations finished on 114000/179952 queries. users per second: 1146.67"
      ]
     },
     "metadata": {},
     "output_type": "display_data"
    },
    {
     "data": {
      "text/html": [
       "<pre>recommendations finished on 115000/179952 queries. users per second: 1144.23</pre>"
      ],
      "text/plain": [
       "recommendations finished on 115000/179952 queries. users per second: 1144.23"
      ]
     },
     "metadata": {},
     "output_type": "display_data"
    },
    {
     "data": {
      "text/html": [
       "<pre>recommendations finished on 116000/179952 queries. users per second: 1145.04</pre>"
      ],
      "text/plain": [
       "recommendations finished on 116000/179952 queries. users per second: 1145.04"
      ]
     },
     "metadata": {},
     "output_type": "display_data"
    },
    {
     "data": {
      "text/html": [
       "<pre>recommendations finished on 117000/179952 queries. users per second: 1144.57</pre>"
      ],
      "text/plain": [
       "recommendations finished on 117000/179952 queries. users per second: 1144.57"
      ]
     },
     "metadata": {},
     "output_type": "display_data"
    },
    {
     "data": {
      "text/html": [
       "<pre>recommendations finished on 118000/179952 queries. users per second: 1145.72</pre>"
      ],
      "text/plain": [
       "recommendations finished on 118000/179952 queries. users per second: 1145.72"
      ]
     },
     "metadata": {},
     "output_type": "display_data"
    },
    {
     "data": {
      "text/html": [
       "<pre>recommendations finished on 119000/179952 queries. users per second: 1146.14</pre>"
      ],
      "text/plain": [
       "recommendations finished on 119000/179952 queries. users per second: 1146.14"
      ]
     },
     "metadata": {},
     "output_type": "display_data"
    },
    {
     "data": {
      "text/html": [
       "<pre>recommendations finished on 120000/179952 queries. users per second: 1145.86</pre>"
      ],
      "text/plain": [
       "recommendations finished on 120000/179952 queries. users per second: 1145.86"
      ]
     },
     "metadata": {},
     "output_type": "display_data"
    },
    {
     "data": {
      "text/html": [
       "<pre>recommendations finished on 121000/179952 queries. users per second: 1143.31</pre>"
      ],
      "text/plain": [
       "recommendations finished on 121000/179952 queries. users per second: 1143.31"
      ]
     },
     "metadata": {},
     "output_type": "display_data"
    },
    {
     "data": {
      "text/html": [
       "<pre>recommendations finished on 122000/179952 queries. users per second: 1141.3</pre>"
      ],
      "text/plain": [
       "recommendations finished on 122000/179952 queries. users per second: 1141.3"
      ]
     },
     "metadata": {},
     "output_type": "display_data"
    },
    {
     "data": {
      "text/html": [
       "<pre>recommendations finished on 123000/179952 queries. users per second: 1139.03</pre>"
      ],
      "text/plain": [
       "recommendations finished on 123000/179952 queries. users per second: 1139.03"
      ]
     },
     "metadata": {},
     "output_type": "display_data"
    },
    {
     "data": {
      "text/html": [
       "<pre>recommendations finished on 124000/179952 queries. users per second: 1139.9</pre>"
      ],
      "text/plain": [
       "recommendations finished on 124000/179952 queries. users per second: 1139.9"
      ]
     },
     "metadata": {},
     "output_type": "display_data"
    },
    {
     "data": {
      "text/html": [
       "<pre>recommendations finished on 125000/179952 queries. users per second: 1141.33</pre>"
      ],
      "text/plain": [
       "recommendations finished on 125000/179952 queries. users per second: 1141.33"
      ]
     },
     "metadata": {},
     "output_type": "display_data"
    },
    {
     "data": {
      "text/html": [
       "<pre>recommendations finished on 126000/179952 queries. users per second: 1142.88</pre>"
      ],
      "text/plain": [
       "recommendations finished on 126000/179952 queries. users per second: 1142.88"
      ]
     },
     "metadata": {},
     "output_type": "display_data"
    },
    {
     "data": {
      "text/html": [
       "<pre>recommendations finished on 127000/179952 queries. users per second: 1144.28</pre>"
      ],
      "text/plain": [
       "recommendations finished on 127000/179952 queries. users per second: 1144.28"
      ]
     },
     "metadata": {},
     "output_type": "display_data"
    },
    {
     "data": {
      "text/html": [
       "<pre>recommendations finished on 128000/179952 queries. users per second: 1144.65</pre>"
      ],
      "text/plain": [
       "recommendations finished on 128000/179952 queries. users per second: 1144.65"
      ]
     },
     "metadata": {},
     "output_type": "display_data"
    },
    {
     "data": {
      "text/html": [
       "<pre>recommendations finished on 129000/179952 queries. users per second: 1144.2</pre>"
      ],
      "text/plain": [
       "recommendations finished on 129000/179952 queries. users per second: 1144.2"
      ]
     },
     "metadata": {},
     "output_type": "display_data"
    },
    {
     "data": {
      "text/html": [
       "<pre>recommendations finished on 130000/179952 queries. users per second: 1145.54</pre>"
      ],
      "text/plain": [
       "recommendations finished on 130000/179952 queries. users per second: 1145.54"
      ]
     },
     "metadata": {},
     "output_type": "display_data"
    },
    {
     "data": {
      "text/html": [
       "<pre>recommendations finished on 131000/179952 queries. users per second: 1146.33</pre>"
      ],
      "text/plain": [
       "recommendations finished on 131000/179952 queries. users per second: 1146.33"
      ]
     },
     "metadata": {},
     "output_type": "display_data"
    },
    {
     "data": {
      "text/html": [
       "<pre>recommendations finished on 132000/179952 queries. users per second: 1146.85</pre>"
      ],
      "text/plain": [
       "recommendations finished on 132000/179952 queries. users per second: 1146.85"
      ]
     },
     "metadata": {},
     "output_type": "display_data"
    },
    {
     "data": {
      "text/html": [
       "<pre>recommendations finished on 133000/179952 queries. users per second: 1147.69</pre>"
      ],
      "text/plain": [
       "recommendations finished on 133000/179952 queries. users per second: 1147.69"
      ]
     },
     "metadata": {},
     "output_type": "display_data"
    },
    {
     "data": {
      "text/html": [
       "<pre>recommendations finished on 134000/179952 queries. users per second: 1148.49</pre>"
      ],
      "text/plain": [
       "recommendations finished on 134000/179952 queries. users per second: 1148.49"
      ]
     },
     "metadata": {},
     "output_type": "display_data"
    },
    {
     "data": {
      "text/html": [
       "<pre>recommendations finished on 135000/179952 queries. users per second: 1149.03</pre>"
      ],
      "text/plain": [
       "recommendations finished on 135000/179952 queries. users per second: 1149.03"
      ]
     },
     "metadata": {},
     "output_type": "display_data"
    },
    {
     "data": {
      "text/html": [
       "<pre>recommendations finished on 136000/179952 queries. users per second: 1149.55</pre>"
      ],
      "text/plain": [
       "recommendations finished on 136000/179952 queries. users per second: 1149.55"
      ]
     },
     "metadata": {},
     "output_type": "display_data"
    },
    {
     "data": {
      "text/html": [
       "<pre>recommendations finished on 137000/179952 queries. users per second: 1150.65</pre>"
      ],
      "text/plain": [
       "recommendations finished on 137000/179952 queries. users per second: 1150.65"
      ]
     },
     "metadata": {},
     "output_type": "display_data"
    },
    {
     "data": {
      "text/html": [
       "<pre>recommendations finished on 138000/179952 queries. users per second: 1149.57</pre>"
      ],
      "text/plain": [
       "recommendations finished on 138000/179952 queries. users per second: 1149.57"
      ]
     },
     "metadata": {},
     "output_type": "display_data"
    },
    {
     "data": {
      "text/html": [
       "<pre>recommendations finished on 139000/179952 queries. users per second: 1148.87</pre>"
      ],
      "text/plain": [
       "recommendations finished on 139000/179952 queries. users per second: 1148.87"
      ]
     },
     "metadata": {},
     "output_type": "display_data"
    },
    {
     "data": {
      "text/html": [
       "<pre>recommendations finished on 140000/179952 queries. users per second: 1149.24</pre>"
      ],
      "text/plain": [
       "recommendations finished on 140000/179952 queries. users per second: 1149.24"
      ]
     },
     "metadata": {},
     "output_type": "display_data"
    },
    {
     "data": {
      "text/html": [
       "<pre>recommendations finished on 141000/179952 queries. users per second: 1148.44</pre>"
      ],
      "text/plain": [
       "recommendations finished on 141000/179952 queries. users per second: 1148.44"
      ]
     },
     "metadata": {},
     "output_type": "display_data"
    },
    {
     "data": {
      "text/html": [
       "<pre>recommendations finished on 142000/179952 queries. users per second: 1147.47</pre>"
      ],
      "text/plain": [
       "recommendations finished on 142000/179952 queries. users per second: 1147.47"
      ]
     },
     "metadata": {},
     "output_type": "display_data"
    },
    {
     "data": {
      "text/html": [
       "<pre>recommendations finished on 143000/179952 queries. users per second: 1146.94</pre>"
      ],
      "text/plain": [
       "recommendations finished on 143000/179952 queries. users per second: 1146.94"
      ]
     },
     "metadata": {},
     "output_type": "display_data"
    },
    {
     "data": {
      "text/html": [
       "<pre>recommendations finished on 144000/179952 queries. users per second: 1146.96</pre>"
      ],
      "text/plain": [
       "recommendations finished on 144000/179952 queries. users per second: 1146.96"
      ]
     },
     "metadata": {},
     "output_type": "display_data"
    },
    {
     "data": {
      "text/html": [
       "<pre>recommendations finished on 145000/179952 queries. users per second: 1147.44</pre>"
      ],
      "text/plain": [
       "recommendations finished on 145000/179952 queries. users per second: 1147.44"
      ]
     },
     "metadata": {},
     "output_type": "display_data"
    },
    {
     "data": {
      "text/html": [
       "<pre>recommendations finished on 146000/179952 queries. users per second: 1147.78</pre>"
      ],
      "text/plain": [
       "recommendations finished on 146000/179952 queries. users per second: 1147.78"
      ]
     },
     "metadata": {},
     "output_type": "display_data"
    },
    {
     "data": {
      "text/html": [
       "<pre>recommendations finished on 147000/179952 queries. users per second: 1148.19</pre>"
      ],
      "text/plain": [
       "recommendations finished on 147000/179952 queries. users per second: 1148.19"
      ]
     },
     "metadata": {},
     "output_type": "display_data"
    },
    {
     "data": {
      "text/html": [
       "<pre>recommendations finished on 148000/179952 queries. users per second: 1146.73</pre>"
      ],
      "text/plain": [
       "recommendations finished on 148000/179952 queries. users per second: 1146.73"
      ]
     },
     "metadata": {},
     "output_type": "display_data"
    },
    {
     "data": {
      "text/html": [
       "<pre>recommendations finished on 149000/179952 queries. users per second: 1145.55</pre>"
      ],
      "text/plain": [
       "recommendations finished on 149000/179952 queries. users per second: 1145.55"
      ]
     },
     "metadata": {},
     "output_type": "display_data"
    },
    {
     "data": {
      "text/html": [
       "<pre>recommendations finished on 150000/179952 queries. users per second: 1145.64</pre>"
      ],
      "text/plain": [
       "recommendations finished on 150000/179952 queries. users per second: 1145.64"
      ]
     },
     "metadata": {},
     "output_type": "display_data"
    },
    {
     "data": {
      "text/html": [
       "<pre>recommendations finished on 151000/179952 queries. users per second: 1144.99</pre>"
      ],
      "text/plain": [
       "recommendations finished on 151000/179952 queries. users per second: 1144.99"
      ]
     },
     "metadata": {},
     "output_type": "display_data"
    },
    {
     "data": {
      "text/html": [
       "<pre>recommendations finished on 152000/179952 queries. users per second: 1145.89</pre>"
      ],
      "text/plain": [
       "recommendations finished on 152000/179952 queries. users per second: 1145.89"
      ]
     },
     "metadata": {},
     "output_type": "display_data"
    },
    {
     "data": {
      "text/html": [
       "<pre>recommendations finished on 153000/179952 queries. users per second: 1146.71</pre>"
      ],
      "text/plain": [
       "recommendations finished on 153000/179952 queries. users per second: 1146.71"
      ]
     },
     "metadata": {},
     "output_type": "display_data"
    },
    {
     "data": {
      "text/html": [
       "<pre>recommendations finished on 154000/179952 queries. users per second: 1147.59</pre>"
      ],
      "text/plain": [
       "recommendations finished on 154000/179952 queries. users per second: 1147.59"
      ]
     },
     "metadata": {},
     "output_type": "display_data"
    },
    {
     "data": {
      "text/html": [
       "<pre>recommendations finished on 155000/179952 queries. users per second: 1148.41</pre>"
      ],
      "text/plain": [
       "recommendations finished on 155000/179952 queries. users per second: 1148.41"
      ]
     },
     "metadata": {},
     "output_type": "display_data"
    },
    {
     "data": {
      "text/html": [
       "<pre>recommendations finished on 156000/179952 queries. users per second: 1148.96</pre>"
      ],
      "text/plain": [
       "recommendations finished on 156000/179952 queries. users per second: 1148.96"
      ]
     },
     "metadata": {},
     "output_type": "display_data"
    },
    {
     "data": {
      "text/html": [
       "<pre>recommendations finished on 157000/179952 queries. users per second: 1148.97</pre>"
      ],
      "text/plain": [
       "recommendations finished on 157000/179952 queries. users per second: 1148.97"
      ]
     },
     "metadata": {},
     "output_type": "display_data"
    },
    {
     "data": {
      "text/html": [
       "<pre>recommendations finished on 158000/179952 queries. users per second: 1149.06</pre>"
      ],
      "text/plain": [
       "recommendations finished on 158000/179952 queries. users per second: 1149.06"
      ]
     },
     "metadata": {},
     "output_type": "display_data"
    },
    {
     "data": {
      "text/html": [
       "<pre>recommendations finished on 159000/179952 queries. users per second: 1149.48</pre>"
      ],
      "text/plain": [
       "recommendations finished on 159000/179952 queries. users per second: 1149.48"
      ]
     },
     "metadata": {},
     "output_type": "display_data"
    },
    {
     "data": {
      "text/html": [
       "<pre>recommendations finished on 160000/179952 queries. users per second: 1149.23</pre>"
      ],
      "text/plain": [
       "recommendations finished on 160000/179952 queries. users per second: 1149.23"
      ]
     },
     "metadata": {},
     "output_type": "display_data"
    },
    {
     "data": {
      "text/html": [
       "<pre>recommendations finished on 161000/179952 queries. users per second: 1148.97</pre>"
      ],
      "text/plain": [
       "recommendations finished on 161000/179952 queries. users per second: 1148.97"
      ]
     },
     "metadata": {},
     "output_type": "display_data"
    },
    {
     "data": {
      "text/html": [
       "<pre>recommendations finished on 162000/179952 queries. users per second: 1149.1</pre>"
      ],
      "text/plain": [
       "recommendations finished on 162000/179952 queries. users per second: 1149.1"
      ]
     },
     "metadata": {},
     "output_type": "display_data"
    },
    {
     "data": {
      "text/html": [
       "<pre>recommendations finished on 163000/179952 queries. users per second: 1149.58</pre>"
      ],
      "text/plain": [
       "recommendations finished on 163000/179952 queries. users per second: 1149.58"
      ]
     },
     "metadata": {},
     "output_type": "display_data"
    },
    {
     "data": {
      "text/html": [
       "<pre>recommendations finished on 164000/179952 queries. users per second: 1149.94</pre>"
      ],
      "text/plain": [
       "recommendations finished on 164000/179952 queries. users per second: 1149.94"
      ]
     },
     "metadata": {},
     "output_type": "display_data"
    },
    {
     "data": {
      "text/html": [
       "<pre>recommendations finished on 165000/179952 queries. users per second: 1150.36</pre>"
      ],
      "text/plain": [
       "recommendations finished on 165000/179952 queries. users per second: 1150.36"
      ]
     },
     "metadata": {},
     "output_type": "display_data"
    },
    {
     "data": {
      "text/html": [
       "<pre>recommendations finished on 166000/179952 queries. users per second: 1150.96</pre>"
      ],
      "text/plain": [
       "recommendations finished on 166000/179952 queries. users per second: 1150.96"
      ]
     },
     "metadata": {},
     "output_type": "display_data"
    },
    {
     "data": {
      "text/html": [
       "<pre>recommendations finished on 167000/179952 queries. users per second: 1150.95</pre>"
      ],
      "text/plain": [
       "recommendations finished on 167000/179952 queries. users per second: 1150.95"
      ]
     },
     "metadata": {},
     "output_type": "display_data"
    },
    {
     "data": {
      "text/html": [
       "<pre>recommendations finished on 168000/179952 queries. users per second: 1150.73</pre>"
      ],
      "text/plain": [
       "recommendations finished on 168000/179952 queries. users per second: 1150.73"
      ]
     },
     "metadata": {},
     "output_type": "display_data"
    },
    {
     "data": {
      "text/html": [
       "<pre>recommendations finished on 169000/179952 queries. users per second: 1150.93</pre>"
      ],
      "text/plain": [
       "recommendations finished on 169000/179952 queries. users per second: 1150.93"
      ]
     },
     "metadata": {},
     "output_type": "display_data"
    },
    {
     "data": {
      "text/html": [
       "<pre>recommendations finished on 170000/179952 queries. users per second: 1150.98</pre>"
      ],
      "text/plain": [
       "recommendations finished on 170000/179952 queries. users per second: 1150.98"
      ]
     },
     "metadata": {},
     "output_type": "display_data"
    },
    {
     "data": {
      "text/html": [
       "<pre>recommendations finished on 171000/179952 queries. users per second: 1151.28</pre>"
      ],
      "text/plain": [
       "recommendations finished on 171000/179952 queries. users per second: 1151.28"
      ]
     },
     "metadata": {},
     "output_type": "display_data"
    },
    {
     "data": {
      "text/html": [
       "<pre>recommendations finished on 172000/179952 queries. users per second: 1149.74</pre>"
      ],
      "text/plain": [
       "recommendations finished on 172000/179952 queries. users per second: 1149.74"
      ]
     },
     "metadata": {},
     "output_type": "display_data"
    },
    {
     "data": {
      "text/html": [
       "<pre>recommendations finished on 173000/179952 queries. users per second: 1149.73</pre>"
      ],
      "text/plain": [
       "recommendations finished on 173000/179952 queries. users per second: 1149.73"
      ]
     },
     "metadata": {},
     "output_type": "display_data"
    },
    {
     "data": {
      "text/html": [
       "<pre>recommendations finished on 174000/179952 queries. users per second: 1149.31</pre>"
      ],
      "text/plain": [
       "recommendations finished on 174000/179952 queries. users per second: 1149.31"
      ]
     },
     "metadata": {},
     "output_type": "display_data"
    },
    {
     "data": {
      "text/html": [
       "<pre>recommendations finished on 175000/179952 queries. users per second: 1149.43</pre>"
      ],
      "text/plain": [
       "recommendations finished on 175000/179952 queries. users per second: 1149.43"
      ]
     },
     "metadata": {},
     "output_type": "display_data"
    },
    {
     "data": {
      "text/html": [
       "<pre>recommendations finished on 176000/179952 queries. users per second: 1149.22</pre>"
      ],
      "text/plain": [
       "recommendations finished on 176000/179952 queries. users per second: 1149.22"
      ]
     },
     "metadata": {},
     "output_type": "display_data"
    },
    {
     "data": {
      "text/html": [
       "<pre>recommendations finished on 177000/179952 queries. users per second: 1142.21</pre>"
      ],
      "text/plain": [
       "recommendations finished on 177000/179952 queries. users per second: 1142.21"
      ]
     },
     "metadata": {},
     "output_type": "display_data"
    },
    {
     "data": {
      "text/html": [
       "<pre>recommendations finished on 178000/179952 queries. users per second: 1133.63</pre>"
      ],
      "text/plain": [
       "recommendations finished on 178000/179952 queries. users per second: 1133.63"
      ]
     },
     "metadata": {},
     "output_type": "display_data"
    },
    {
     "data": {
      "text/html": [
       "<pre>recommendations finished on 179000/179952 queries. users per second: 1126.11</pre>"
      ],
      "text/plain": [
       "recommendations finished on 179000/179952 queries. users per second: 1126.11"
      ]
     },
     "metadata": {},
     "output_type": "display_data"
    }
   ],
   "source": [
    "recs = m.recommend(k=5)"
   ]
  },
  {
   "cell_type": "code",
   "execution_count": 24,
   "metadata": {},
   "outputs": [],
   "source": [
    "df=recs.to_dataframe()"
   ]
  },
  {
   "cell_type": "code",
   "execution_count": 25,
   "metadata": {},
   "outputs": [
    {
     "data": {
      "text/plain": [
       "0.15939173405211138"
      ]
     },
     "execution_count": 25,
     "metadata": {},
     "output_type": "execute_result"
    }
   ],
   "source": [
    "predictions = df['product_id'].tolist()\n",
    "k = 5\n",
    "chunk = [predictions[i:i + k] for i in range(0, len(predictions), k)]\n",
    "ids, purchases = get_customer_purchases(test_purchases)\n",
    "score = mapk(purchases, chunk, k=5)\n",
    "score"
   ]
  },
  {
   "cell_type": "markdown",
   "metadata": {},
   "source": [
    "видно, что скор упал. Нужно пробовать идти другими путемя, \n",
    " можно посчитать матрицу взаимодействий user-user на второй платформе, перемножить с \n",
    "item-user основной и применить тот же BPR (implicit/ lightFM).\n",
    "Можно взять модель типа word2vec и в нее закинуть взаимодействия с обоих сервисов (предложение == последовательность айтимов одного юзера), получить таким образом вектора юзеров с учетом истории в двух сервисах. Дальше вектор пользователя счиать как сумму векторов айтимов, с которыми он взаимодействовал (предварительно их нормализовать или домножить на BM25/IDF). Можно взять вектора юзеров с одного сервиса и инициализировать вектора соотвествующих юзеров во втором сервисе перед тем как начать факторизацию матрицы, эта информация учтется при факторизации (тут важно чтобы в первом шаге ALS фиксировались вектора айтимов и вычислялись вектора пользователей). Затраченное время ~3ч (на текущей работе сдача проекта, поэтому не смог уделить тесту больше времени)."
   ]
  },
  {
   "cell_type": "code",
   "execution_count": 26,
   "metadata": {},
   "outputs": [
    {
     "data": {
      "text/html": [
       "<div>\n",
       "<style scoped>\n",
       "    .dataframe tbody tr th:only-of-type {\n",
       "        vertical-align: middle;\n",
       "    }\n",
       "\n",
       "    .dataframe tbody tr th {\n",
       "        vertical-align: top;\n",
       "    }\n",
       "\n",
       "    .dataframe thead th {\n",
       "        text-align: right;\n",
       "    }\n",
       "</style>\n",
       "<table border=\"1\" class=\"dataframe\">\n",
       "  <thead>\n",
       "    <tr style=\"text-align: right;\">\n",
       "      <th></th>\n",
       "      <th>customer_id</th>\n",
       "      <th>product_id_x</th>\n",
       "      <th>external_customer_id</th>\n",
       "      <th>product_id_y</th>\n",
       "    </tr>\n",
       "  </thead>\n",
       "  <tbody>\n",
       "    <tr>\n",
       "      <th>0</th>\n",
       "      <td>1705131</td>\n",
       "      <td>120554</td>\n",
       "      <td>1512500</td>\n",
       "      <td>212729</td>\n",
       "    </tr>\n",
       "    <tr>\n",
       "      <th>1</th>\n",
       "      <td>1705131</td>\n",
       "      <td>120554</td>\n",
       "      <td>1512500</td>\n",
       "      <td>212729</td>\n",
       "    </tr>\n",
       "    <tr>\n",
       "      <th>2</th>\n",
       "      <td>1705131</td>\n",
       "      <td>120554</td>\n",
       "      <td>1512500</td>\n",
       "      <td>2</td>\n",
       "    </tr>\n",
       "    <tr>\n",
       "      <th>3</th>\n",
       "      <td>1705131</td>\n",
       "      <td>120554</td>\n",
       "      <td>1512500</td>\n",
       "      <td>2</td>\n",
       "    </tr>\n",
       "    <tr>\n",
       "      <th>4</th>\n",
       "      <td>1705131</td>\n",
       "      <td>120554</td>\n",
       "      <td>1512500</td>\n",
       "      <td>2</td>\n",
       "    </tr>\n",
       "    <tr>\n",
       "      <th>...</th>\n",
       "      <td>...</td>\n",
       "      <td>...</td>\n",
       "      <td>...</td>\n",
       "      <td>...</td>\n",
       "    </tr>\n",
       "    <tr>\n",
       "      <th>2435634</th>\n",
       "      <td>1821265</td>\n",
       "      <td>134934</td>\n",
       "      <td>5624802</td>\n",
       "      <td>451422</td>\n",
       "    </tr>\n",
       "    <tr>\n",
       "      <th>2435635</th>\n",
       "      <td>1821265</td>\n",
       "      <td>134934</td>\n",
       "      <td>5624802</td>\n",
       "      <td>448850</td>\n",
       "    </tr>\n",
       "    <tr>\n",
       "      <th>2435636</th>\n",
       "      <td>1810189</td>\n",
       "      <td>134935</td>\n",
       "      <td>3080864</td>\n",
       "      <td>354806</td>\n",
       "    </tr>\n",
       "    <tr>\n",
       "      <th>2435637</th>\n",
       "      <td>1810189</td>\n",
       "      <td>134935</td>\n",
       "      <td>3080864</td>\n",
       "      <td>433374</td>\n",
       "    </tr>\n",
       "    <tr>\n",
       "      <th>2435638</th>\n",
       "      <td>1810189</td>\n",
       "      <td>134935</td>\n",
       "      <td>3080864</td>\n",
       "      <td>451430</td>\n",
       "    </tr>\n",
       "  </tbody>\n",
       "</table>\n",
       "<p>2435639 rows × 4 columns</p>\n",
       "</div>"
      ],
      "text/plain": [
       "         customer_id  product_id_x  external_customer_id  product_id_y\n",
       "0            1705131        120554               1512500        212729\n",
       "1            1705131        120554               1512500        212729\n",
       "2            1705131        120554               1512500             2\n",
       "3            1705131        120554               1512500             2\n",
       "4            1705131        120554               1512500             2\n",
       "...              ...           ...                   ...           ...\n",
       "2435634      1821265        134934               5624802        451422\n",
       "2435635      1821265        134934               5624802        448850\n",
       "2435636      1810189        134935               3080864        354806\n",
       "2435637      1810189        134935               3080864        433374\n",
       "2435638      1810189        134935               3080864        451430\n",
       "\n",
       "[2435639 rows x 4 columns]"
      ]
     },
     "execution_count": 26,
     "metadata": {},
     "output_type": "execute_result"
    }
   ],
   "source": [
    "customer_id_mapping = customer_id_mapping.rename(columns={\"source_customer_id\": \"customer_id\"})\n",
    "external_purchases = external_purchases.rename(columns={\"customer_id\": \"external_customer_id\"})\n",
    "res = pd.merge(train_purchases, customer_id_mapping, on=\"customer_id\", how=\"inner\", indicator=True)\n",
    "res = res.drop(columns=['_merge'], axis=1)\n",
    "res = pd.merge(res, external_purchases, on=\"external_customer_id\", how=\"inner\", indicator=True)\n",
    "res = res.drop(columns=['_merge'], axis=1)\n",
    "res"
   ]
  }
 ],
 "metadata": {
  "kernelspec": {
   "display_name": "Python 3",
   "language": "python",
   "name": "python3"
  },
  "language_info": {
   "codemirror_mode": {
    "name": "ipython",
    "version": 3
   },
   "file_extension": ".py",
   "mimetype": "text/x-python",
   "name": "python",
   "nbconvert_exporter": "python",
   "pygments_lexer": "ipython3",
   "version": "3.6.7"
  }
 },
 "nbformat": 4,
 "nbformat_minor": 2
}
